{
 "cells": [
  {
   "cell_type": "code",
   "execution_count": 5,
   "metadata": {},
   "outputs": [],
   "source": [
    "import pandas as pd\n",
    "import requests\n",
    "import json\n",
    "from getpass import getpass"
   ]
  },
  {
   "cell_type": "code",
   "execution_count": 16,
   "metadata": {},
   "outputs": [],
   "source": [
    "url = 'https://natthawat.live/api'"
   ]
  },
  {
   "cell_type": "markdown",
   "metadata": {},
   "source": [
    "# Read csv file"
   ]
  },
  {
   "cell_type": "code",
   "execution_count": 15,
   "metadata": {},
   "outputs": [],
   "source": [
    "data={\n",
    "    'การรับเข้านักศึกษา':pd.read_csv('admission.csv'),\n",
    "    'หลักสูตร':pd.read_csv('curriculum.csv'),\n",
    "    'ลงทะเบียนเรียน':pd.read_csv('enrollment.csv'),\n",
    "    'คำถามทั่วไป':pd.read_csv('faq.csv'),\n",
    "    # Remove imbalanced classes\n",
    "    # 'ฝึกงาน': pd.read_csv('internship.csv'),\n",
    "    # 'ทุนการศึกษา': pd.read_csv('scholarship.csv')\n",
    "    }"
   ]
  },
  {
   "cell_type": "markdown",
   "metadata": {},
   "source": [
    "# Set cookies and userId"
   ]
  },
  {
   "cell_type": "code",
   "execution_count": 35,
   "metadata": {},
   "outputs": [
    {
     "name": "stdout",
     "output_type": "stream",
     "text": [
      "Username: root\n",
      "Password: ········\n",
      "Username or password is not correct\n"
     ]
    }
   ],
   "source": [
    "username = input('Username: ')\n",
    "password = getpass('Password: ')\n",
    "login = {'username': username, 'password': password}\n",
    "response = requests.post('%s/km/auth/login' % url,data=login)\n",
    "\n",
    "if response.status_code == 201 or response.status_code == 200:\n",
    "    cookies = response.cookies.get_dict()\n",
    "    userId = json.loads(response.text)['id']\n",
    "else:\n",
    "    print(\"Username or password is not correct\")"
   ]
  },
  {
   "cell_type": "code",
   "execution_count": 34,
   "metadata": {},
   "outputs": [],
   "source": [
    "# Debug check\n",
    "debug = False\n",
    "if debug:\n",
    "    print(cookies)\n",
    "    print(userId)"
   ]
  },
  {
   "cell_type": "markdown",
   "metadata": {},
   "source": [
    "# Create subcategory and category"
   ]
  },
  {
   "cell_type": "code",
   "execution_count": 39,
   "metadata": {},
   "outputs": [],
   "source": [
    "query = False\n",
    "for key,value  in data.items():\n",
    "    category = key\n",
    "    subcategories = value['Subcategory'].unique()\n",
    "\n",
    "    createCategory = {\n",
    "            'category': category\n",
    "        }\n",
    "    if query:\n",
    "        response = requests.post('%s/km/category' % url, cookies=cookies, data=createCategory)\n",
    "        categoryId = json.loads(response.text)['id']\n",
    "    for subcategory in subcategories:\n",
    "        createSubcategory = {\n",
    "            'subcategory': subcategory,\n",
    "            'categoryId': categoryId\n",
    "            }\n",
    "        if query:\n",
    "            response = requests.post('%s/km/subcategory' % url, cookies=cookies, data=createSubcategory)\n",
    "            subcategoryId = json.loads(response.text)['id']\n",
    "        "
   ]
  },
  {
   "cell_type": "markdown",
   "metadata": {},
   "source": [
    "# Get subcategory id and category id"
   ]
  },
  {
   "cell_type": "code",
   "execution_count": 40,
   "metadata": {},
   "outputs": [],
   "source": [
    "response = requests.get('%s/km/category' % url, cookies=cookies)\n",
    "categories = json.loads(response.text)"
   ]
  },
  {
   "cell_type": "markdown",
   "metadata": {},
   "source": [
    "paramater\n",
    "- categories -> Categories data\n",
    "- categoryText -> category that want to search\n",
    "- subcategoryText -> subcategory that want to search\n",
    "\n",
    "return\n",
    "- categoryId: string, subcategoryId: string"
   ]
  },
  {
   "cell_type": "code",
   "execution_count": 41,
   "metadata": {},
   "outputs": [],
   "source": [
    "def findId(categories, categoryText, subcategoryText):\n",
    "    for category in categories:\n",
    "        if category['category'] == categoryText:\n",
    "            categoryId = category['id']\n",
    "            for subcategory in category['subcategories']:\n",
    "                if subcategory['subcategory'] == subcategoryText:\n",
    "                    subcategoryId = subcategory['id']\n",
    "                    return categoryId, subcategoryId"
   ]
  },
  {
   "cell_type": "markdown",
   "metadata": {},
   "source": [
    "# Create FAQ"
   ]
  },
  {
   "cell_type": "code",
   "execution_count": 43,
   "metadata": {},
   "outputs": [],
   "source": [
    "query = False\n",
    "for key,value  in data.items():\n",
    "    category = key        \n",
    "    questions = value['Questions']\n",
    "    answers = value['Answers']\n",
    "    subcategories = value['Subcategory']\n",
    "    for i in range(len(questions)):\n",
    "        categoryId, subcategoryId = findId(categories, category, subcategories[i])\n",
    "        createFAQ={\n",
    "            'question': questions[i],\n",
    "            'answer': answers[i],\n",
    "            'subcategoryId': subcategoryId,\n",
    "            'lastEditorId': userId,\n",
    "        }\n",
    "\n",
    "        if query:\n",
    "            response = requests.post('%s/km/faq' % url, cookies=cookies, data=createFAQ)"
   ]
  },
  {
   "cell_type": "markdown",
   "metadata": {},
   "source": [
    "# Delete All"
   ]
  },
  {
   "cell_type": "code",
   "execution_count": 38,
   "metadata": {},
   "outputs": [],
   "source": [
    "query = False\n",
    "if query:\n",
    "    # Remove faq\n",
    "    response = requests.get('%s/km/faq' % (url), cookies=cookies)\n",
    "    faqs=json.loads(response.text)\n",
    "    for faq in faqs:\n",
    "        response = requests.delete('%s/km/faq'  % (url), cookies=cookies, data=faq['id'])\n",
    "    \n",
    "    # Remove subcategory\n",
    "    response = requests.get('%s/km/subcategory' % (url), cookies=cookies)\n",
    "    subcategories=json.loads(response.text)\n",
    "    for subcategory in subcategories:\n",
    "        response = requests.delete('%s/km/subcategory'  % (url), cookies=cookies, data=subcategory['id'])\n",
    "    \n",
    "    # Remove category\n",
    "    response = requests.get('%s/km/category' % (url), cookies=cookies)\n",
    "    categories=json.loads(response.text)\n",
    "    for category in categories:\n",
    "        response = requests.delete('%s/km/category'  % (url), cookies=cookies, data=category['id'])"
   ]
  },
  {
   "cell_type": "code",
   "execution_count": null,
   "metadata": {},
   "outputs": [],
   "source": [
    "query = False\n",
    "column='category'\n",
    "if query:\n",
    "    # Remove faq\n",
    "    response = requests.get('%s/km/%s' % (url,column), cookies=cookies)\n",
    "    rows=json.loads(response.text)\n",
    "    for row in rows:\n",
    "        response = requests.delete('%s/km/%s'  % (url,column), cookies=cookies, data=row['id'])"
   ]
  }
 ],
 "metadata": {
  "kernelspec": {
   "display_name": "Python 3",
   "language": "python",
   "name": "python3"
  },
  "language_info": {
   "codemirror_mode": {
    "name": "ipython",
    "version": 3
   },
   "file_extension": ".py",
   "mimetype": "text/x-python",
   "name": "python",
   "nbconvert_exporter": "python",
   "pygments_lexer": "ipython3",
   "version": "3.7.9"
  }
 },
 "nbformat": 4,
 "nbformat_minor": 4
}
